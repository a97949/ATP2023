{
 "cells": [
  {
   "cell_type": "code",
   "execution_count": 1,
   "metadata": {},
   "outputs": [
    {
     "name": "stdout",
     "output_type": "stream",
     "text": [
      "7 tentativas.\n"
     ]
    }
   ],
   "source": [
    "import random\n",
    "\n",
    "modalidade=input(\"Escolha quem adivinha o número: computador/jogador\")\n",
    "\n",
    "if modalidade==\"computador\":\n",
    "    lower=0\n",
    "    upper=100\n",
    "    dif=upper-lower\n",
    "    guess=guess=lower+dif/2\n",
    "                \n",
    "    ans=input(\"O número escolhido é {}? sim/maior/menor\".format(guess))\n",
    "    N=1\n",
    "\n",
    "    while ans!=\"sim\":\n",
    "    \n",
    "        if ans==\"maior\":\n",
    "            lower=guess\n",
    "            dif=upper-lower\n",
    "        \n",
    "            if dif%2==0:\n",
    "                guess=lower+dif/2\n",
    "\n",
    "            elif dif%2>0:\n",
    "                guess=lower+dif/2+0.5\n",
    "        \n",
    "            ans=input(\"O número escolhido é {}? sim/maior/menor\".format(guess))\n",
    "            N=N+1\n",
    "\n",
    "        if ans==\"menor\":\n",
    "            upper=guess\n",
    "            dif=upper-lower\n",
    "                \n",
    "            if dif%2==0:\n",
    "                guess=lower+dif/2\n",
    "                \n",
    "            elif dif%2>0:\n",
    "                guess=lower+dif/2+0.5\n",
    "\n",
    "            \n",
    "            ans=input(\"O número escolhido é {}? sim/maior/menor\".format(guess))\n",
    "            N=N+1\n",
    "\n",
    "    print(\"{} tentativas.\".format(N))\n",
    "\n",
    "elif modalidade==\"jogador\":\n",
    "        \n",
    "    num=random.randint(0,100)\n",
    "\n",
    "    guess=int(input(\"Adivinhe o número.\"))\n",
    "    N=1\n",
    "\n",
    "    while guess!=num:\n",
    "        if guess<num:\n",
    "            guess=int(input(\"O número é maior. Tente outra vez.\"))\n",
    "            N=N+1\n",
    "        if guess>num:\n",
    "            guess=int(input(\"O número é menor. Tente outra vez.\"))\n",
    "            N=N+1\n",
    "\n",
    "    print(\"Acertou em {} tentativas.\".format(N))"
   ]
  }
 ],
 "metadata": {
  "kernelspec": {
   "display_name": "Python 3.10.7 64-bit",
   "language": "python",
   "name": "python3"
  },
  "language_info": {
   "codemirror_mode": {
    "name": "ipython",
    "version": 3
   },
   "file_extension": ".py",
   "mimetype": "text/x-python",
   "name": "python",
   "nbconvert_exporter": "python",
   "pygments_lexer": "ipython3",
   "version": "3.10.7"
  },
  "orig_nbformat": 4,
  "vscode": {
   "interpreter": {
    "hash": "aee8b7b246df8f9039afb4144a1f6fd8d2ca17a180786b69acc140d282b71a49"
   }
  }
 },
 "nbformat": 4,
 "nbformat_minor": 2
}
